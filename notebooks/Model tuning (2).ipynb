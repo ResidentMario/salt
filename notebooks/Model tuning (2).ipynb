{
 "cells": [
  {
   "cell_type": "code",
   "execution_count": 2,
   "metadata": {},
   "outputs": [
    {
     "name": "stderr",
     "output_type": "stream",
     "text": [
      "Using TensorFlow backend.\n"
     ]
    }
   ],
   "source": [
    "import numpy as np\n",
    "from matplotlib.image import imread\n",
    "\n",
    "\n",
    "class ImageDatasetBuilder:\n",
    "    \"\"\"\n",
    "    Given a DataFrame whose index is a set of image IDs (as with {train, test}.csv), returns featurized images.\n",
    "    \"\"\"\n",
    "    def __init__(self, x_dim=100, y_dim=100, source='../data/train/images/', mask=False):\n",
    "        \"\"\"\n",
    "        Builds the featurized image transform.\n",
    "        \n",
    "        x_dim: int\n",
    "            The X dimension to crop the images to.\n",
    "        y_dim: int\n",
    "            The Y dimension to crop the images to.\n",
    "        source: str\n",
    "            Path to the folder containing the image files.\n",
    "        mask: booleon\n",
    "            If true, the underlying data is a mask. If false, the underlying data is RGB. If the data is RGB,\n",
    "            we take just the R component and skip the GB, because the images are grayscale anyway.\n",
    "        \"\"\"\n",
    "        self.x_dim = x_dim\n",
    "        self.y_dim = y_dim\n",
    "        self.source = source\n",
    "        self.mask = mask\n",
    "        \n",
    "    def fit(self, X, y):\n",
    "        return self\n",
    "    \n",
    "    def transform(self, X):\n",
    "        r = np.asarray(\n",
    "            list(\n",
    "                map(lambda img_id: np.ravel(\n",
    "                    imread(f'{self.source}/{img_id}.png')[:self.x_dim,:self.y_dim]\n",
    "                ), X.index.values)\n",
    "            )\n",
    "        )\n",
    "        return r if self.mask else r[:,::3]\n",
    "    \n",
    "    \n",
    "from keras.models import Sequential\n",
    "from keras.layers import Dense\n",
    "from keras.optimizers import SGD\n",
    "from keras.wrappers.scikit_learn import KerasClassifier\n",
    "\n",
    "\n",
    "def buildClassifier(dim=50, hidden_nodes=100):\n",
    "    \"\"\"Returns the Keras model.\"\"\"\n",
    "    def ret():\n",
    "        clf = Sequential()\n",
    "        clf.add(Dense(hidden_nodes, activation='relu', input_dim=dim**2))\n",
    "        clf.add(Dense(dim**2, activation='sigmoid'))\n",
    "        clf.compile(loss='categorical_crossentropy', optimizer=SGD(lr=0.1), metrics=['accuracy'])\n",
    "        return clf\n",
    "    return ret"
   ]
  },
  {
   "cell_type": "markdown",
   "metadata": {},
   "source": [
    "TODO: outputting to hugely-dimensioned output target."
   ]
  },
  {
   "cell_type": "code",
   "execution_count": 4,
   "metadata": {},
   "outputs": [],
   "source": [
    "import pandas as pd\n",
    "train = pd.read_csv(\"../data/train.csv\", index_col=\"id\", usecols=[0])\n",
    "_depths = pd.read_csv(\"../data/depths.csv\", index_col=\"id\")\n",
    "train = train.join(_depths)\n",
    "test = _depths[~_depths.index.isin(train.index)]\n",
    "del _depths\n",
    "\n",
    "X = ImageDatasetBuilder(source='../data/train/images/').transform(train)\n",
    "y = ImageDatasetBuilder(source='../data/train/masks/', mask=True).transform(train)"
   ]
  },
  {
   "cell_type": "code",
   "execution_count": 23,
   "metadata": {},
   "outputs": [],
   "source": [
    "from keras.metrics import binary_accuracy\n",
    "\n",
    "clf = Sequential()\n",
    "clf.add(Dense(100**2, activation='relu', input_dim=100**2))\n",
    "clf.add(Dense(100, activation='relu', input_dim=100**2))\n",
    "clf.add(Dense(4, activation='sigmoid'))\n",
    "clf.compile(loss='categorical_crossentropy', optimizer=SGD(lr=0.01), metrics=[binary_accuracy])"
   ]
  },
  {
   "cell_type": "code",
   "execution_count": 25,
   "metadata": {},
   "outputs": [
    {
     "name": "stdout",
     "output_type": "stream",
     "text": [
      "Epoch 1/20\n",
      "4000/4000 [==============================] - 10s 3ms/step - loss: 1.2021 - binary_accuracy: 0.2191\n",
      "Epoch 2/20\n",
      "4000/4000 [==============================] - 10s 2ms/step - loss: 1.2021 - binary_accuracy: 0.2191\n",
      "Epoch 3/20\n",
      "4000/4000 [==============================] - 10s 2ms/step - loss: 1.2021 - binary_accuracy: 0.2167\n",
      "Epoch 4/20\n",
      "4000/4000 [==============================] - 10s 2ms/step - loss: 1.2020 - binary_accuracy: 0.2167\n",
      "Epoch 5/20\n",
      "4000/4000 [==============================] - 10s 2ms/step - loss: 1.2020 - binary_accuracy: 0.2167\n",
      "Epoch 6/20\n"
     ]
    },
    {
     "ename": "KeyboardInterrupt",
     "evalue": "",
     "output_type": "error",
     "traceback": [
      "\u001b[0;31m---------------------------------------------------------------------------\u001b[0m",
      "\u001b[0;31mKeyboardInterrupt\u001b[0m                         Traceback (most recent call last)",
      "\u001b[0;32m<ipython-input-25-27a93e777eb5>\u001b[0m in \u001b[0;36m<module>\u001b[0;34m()\u001b[0m\n\u001b[0;32m----> 1\u001b[0;31m \u001b[0mclf\u001b[0m\u001b[0;34m.\u001b[0m\u001b[0mfit\u001b[0m\u001b[0;34m(\u001b[0m\u001b[0mX\u001b[0m\u001b[0;34m,\u001b[0m \u001b[0my\u001b[0m\u001b[0;34m[\u001b[0m\u001b[0;34m:\u001b[0m\u001b[0;34m,\u001b[0m \u001b[0;34m:\u001b[0m\u001b[0;36m4\u001b[0m\u001b[0;34m]\u001b[0m\u001b[0;34m,\u001b[0m \u001b[0mepochs\u001b[0m\u001b[0;34m=\u001b[0m\u001b[0;36m20\u001b[0m\u001b[0;34m,\u001b[0m \u001b[0mbatch_size\u001b[0m\u001b[0;34m=\u001b[0m\u001b[0;36m1000\u001b[0m\u001b[0;34m)\u001b[0m\u001b[0;34m\u001b[0m\u001b[0m\n\u001b[0m",
      "\u001b[0;32m~/miniconda3/envs/salt-dev/lib/python3.6/site-packages/keras/engine/training.py\u001b[0m in \u001b[0;36mfit\u001b[0;34m(self, x, y, batch_size, epochs, verbose, callbacks, validation_split, validation_data, shuffle, class_weight, sample_weight, initial_epoch, steps_per_epoch, validation_steps, **kwargs)\u001b[0m\n\u001b[1;32m   1035\u001b[0m                                         \u001b[0minitial_epoch\u001b[0m\u001b[0;34m=\u001b[0m\u001b[0minitial_epoch\u001b[0m\u001b[0;34m,\u001b[0m\u001b[0;34m\u001b[0m\u001b[0m\n\u001b[1;32m   1036\u001b[0m                                         \u001b[0msteps_per_epoch\u001b[0m\u001b[0;34m=\u001b[0m\u001b[0msteps_per_epoch\u001b[0m\u001b[0;34m,\u001b[0m\u001b[0;34m\u001b[0m\u001b[0m\n\u001b[0;32m-> 1037\u001b[0;31m                                         validation_steps=validation_steps)\n\u001b[0m\u001b[1;32m   1038\u001b[0m \u001b[0;34m\u001b[0m\u001b[0m\n\u001b[1;32m   1039\u001b[0m     def evaluate(self, x=None, y=None,\n",
      "\u001b[0;32m~/miniconda3/envs/salt-dev/lib/python3.6/site-packages/keras/engine/training_arrays.py\u001b[0m in \u001b[0;36mfit_loop\u001b[0;34m(model, f, ins, out_labels, batch_size, epochs, verbose, callbacks, val_f, val_ins, shuffle, callback_metrics, initial_epoch, steps_per_epoch, validation_steps)\u001b[0m\n\u001b[1;32m    197\u001b[0m                     \u001b[0mins_batch\u001b[0m\u001b[0;34m[\u001b[0m\u001b[0mi\u001b[0m\u001b[0;34m]\u001b[0m \u001b[0;34m=\u001b[0m \u001b[0mins_batch\u001b[0m\u001b[0;34m[\u001b[0m\u001b[0mi\u001b[0m\u001b[0;34m]\u001b[0m\u001b[0;34m.\u001b[0m\u001b[0mtoarray\u001b[0m\u001b[0;34m(\u001b[0m\u001b[0;34m)\u001b[0m\u001b[0;34m\u001b[0m\u001b[0m\n\u001b[1;32m    198\u001b[0m \u001b[0;34m\u001b[0m\u001b[0m\n\u001b[0;32m--> 199\u001b[0;31m                 \u001b[0mouts\u001b[0m \u001b[0;34m=\u001b[0m \u001b[0mf\u001b[0m\u001b[0;34m(\u001b[0m\u001b[0mins_batch\u001b[0m\u001b[0;34m)\u001b[0m\u001b[0;34m\u001b[0m\u001b[0m\n\u001b[0m\u001b[1;32m    200\u001b[0m                 \u001b[0mouts\u001b[0m \u001b[0;34m=\u001b[0m \u001b[0mto_list\u001b[0m\u001b[0;34m(\u001b[0m\u001b[0mouts\u001b[0m\u001b[0;34m)\u001b[0m\u001b[0;34m\u001b[0m\u001b[0m\n\u001b[1;32m    201\u001b[0m                 \u001b[0;32mfor\u001b[0m \u001b[0ml\u001b[0m\u001b[0;34m,\u001b[0m \u001b[0mo\u001b[0m \u001b[0;32min\u001b[0m \u001b[0mzip\u001b[0m\u001b[0;34m(\u001b[0m\u001b[0mout_labels\u001b[0m\u001b[0;34m,\u001b[0m \u001b[0mouts\u001b[0m\u001b[0;34m)\u001b[0m\u001b[0;34m:\u001b[0m\u001b[0;34m\u001b[0m\u001b[0m\n",
      "\u001b[0;32m~/miniconda3/envs/salt-dev/lib/python3.6/site-packages/keras/backend/tensorflow_backend.py\u001b[0m in \u001b[0;36m__call__\u001b[0;34m(self, inputs)\u001b[0m\n\u001b[1;32m   2664\u001b[0m                 \u001b[0;32mreturn\u001b[0m \u001b[0mself\u001b[0m\u001b[0;34m.\u001b[0m\u001b[0m_legacy_call\u001b[0m\u001b[0;34m(\u001b[0m\u001b[0minputs\u001b[0m\u001b[0;34m)\u001b[0m\u001b[0;34m\u001b[0m\u001b[0m\n\u001b[1;32m   2665\u001b[0m \u001b[0;34m\u001b[0m\u001b[0m\n\u001b[0;32m-> 2666\u001b[0;31m             \u001b[0;32mreturn\u001b[0m \u001b[0mself\u001b[0m\u001b[0;34m.\u001b[0m\u001b[0m_call\u001b[0m\u001b[0;34m(\u001b[0m\u001b[0minputs\u001b[0m\u001b[0;34m)\u001b[0m\u001b[0;34m\u001b[0m\u001b[0m\n\u001b[0m\u001b[1;32m   2667\u001b[0m         \u001b[0;32melse\u001b[0m\u001b[0;34m:\u001b[0m\u001b[0;34m\u001b[0m\u001b[0m\n\u001b[1;32m   2668\u001b[0m             \u001b[0;32mif\u001b[0m \u001b[0mpy_any\u001b[0m\u001b[0;34m(\u001b[0m\u001b[0mis_tensor\u001b[0m\u001b[0;34m(\u001b[0m\u001b[0mx\u001b[0m\u001b[0;34m)\u001b[0m \u001b[0;32mfor\u001b[0m \u001b[0mx\u001b[0m \u001b[0;32min\u001b[0m \u001b[0minputs\u001b[0m\u001b[0;34m)\u001b[0m\u001b[0;34m:\u001b[0m\u001b[0;34m\u001b[0m\u001b[0m\n",
      "\u001b[0;32m~/miniconda3/envs/salt-dev/lib/python3.6/site-packages/keras/backend/tensorflow_backend.py\u001b[0m in \u001b[0;36m_call\u001b[0;34m(self, inputs)\u001b[0m\n\u001b[1;32m   2634\u001b[0m                                 \u001b[0msymbol_vals\u001b[0m\u001b[0;34m,\u001b[0m\u001b[0;34m\u001b[0m\u001b[0m\n\u001b[1;32m   2635\u001b[0m                                 session)\n\u001b[0;32m-> 2636\u001b[0;31m         \u001b[0mfetched\u001b[0m \u001b[0;34m=\u001b[0m \u001b[0mself\u001b[0m\u001b[0;34m.\u001b[0m\u001b[0m_callable_fn\u001b[0m\u001b[0;34m(\u001b[0m\u001b[0;34m*\u001b[0m\u001b[0marray_vals\u001b[0m\u001b[0;34m)\u001b[0m\u001b[0;34m\u001b[0m\u001b[0m\n\u001b[0m\u001b[1;32m   2637\u001b[0m         \u001b[0;32mreturn\u001b[0m \u001b[0mfetched\u001b[0m\u001b[0;34m[\u001b[0m\u001b[0;34m:\u001b[0m\u001b[0mlen\u001b[0m\u001b[0;34m(\u001b[0m\u001b[0mself\u001b[0m\u001b[0;34m.\u001b[0m\u001b[0moutputs\u001b[0m\u001b[0;34m)\u001b[0m\u001b[0;34m]\u001b[0m\u001b[0;34m\u001b[0m\u001b[0m\n\u001b[1;32m   2638\u001b[0m \u001b[0;34m\u001b[0m\u001b[0m\n",
      "\u001b[0;32m~/miniconda3/envs/salt-dev/lib/python3.6/site-packages/tensorflow/python/client/session.py\u001b[0m in \u001b[0;36m__call__\u001b[0;34m(self, *args, **kwargs)\u001b[0m\n\u001b[1;32m   1380\u001b[0m           ret = tf_session.TF_SessionRunCallable(\n\u001b[1;32m   1381\u001b[0m               \u001b[0mself\u001b[0m\u001b[0;34m.\u001b[0m\u001b[0m_session\u001b[0m\u001b[0;34m.\u001b[0m\u001b[0m_session\u001b[0m\u001b[0;34m,\u001b[0m \u001b[0mself\u001b[0m\u001b[0;34m.\u001b[0m\u001b[0m_handle\u001b[0m\u001b[0;34m,\u001b[0m \u001b[0margs\u001b[0m\u001b[0;34m,\u001b[0m \u001b[0mstatus\u001b[0m\u001b[0;34m,\u001b[0m\u001b[0;34m\u001b[0m\u001b[0m\n\u001b[0;32m-> 1382\u001b[0;31m               run_metadata_ptr)\n\u001b[0m\u001b[1;32m   1383\u001b[0m         \u001b[0;32mif\u001b[0m \u001b[0mrun_metadata\u001b[0m\u001b[0;34m:\u001b[0m\u001b[0;34m\u001b[0m\u001b[0m\n\u001b[1;32m   1384\u001b[0m           \u001b[0mproto_data\u001b[0m \u001b[0;34m=\u001b[0m \u001b[0mtf_session\u001b[0m\u001b[0;34m.\u001b[0m\u001b[0mTF_GetBuffer\u001b[0m\u001b[0;34m(\u001b[0m\u001b[0mrun_metadata_ptr\u001b[0m\u001b[0;34m)\u001b[0m\u001b[0;34m\u001b[0m\u001b[0m\n",
      "\u001b[0;31mKeyboardInterrupt\u001b[0m: "
     ]
    }
   ],
   "source": [
    "clf.fit(X, y[:, :4], epochs=20, batch_size=1000)"
   ]
  },
  {
   "cell_type": "code",
   "execution_count": 16,
   "metadata": {},
   "outputs": [
    {
     "data": {
      "text/plain": [
       "array([[0.6171473 , 0.55348605, 0.55309147, 0.61769736],\n",
       "       [0.5543055 , 0.5378089 , 0.63753796, 0.55272293],\n",
       "       [0.57653797, 0.5550737 , 0.5671964 , 0.5574952 ],\n",
       "       [0.5674835 , 0.5725575 , 0.5688045 , 0.48926324],\n",
       "       [0.5817462 , 0.5701564 , 0.58210295, 0.6019498 ],\n",
       "       [0.6481027 , 0.65265006, 0.622256  , 0.6350627 ],\n",
       "       [0.5931024 , 0.5812331 , 0.6193448 , 0.618674  ],\n",
       "       [0.5800271 , 0.5958613 , 0.61456597, 0.602808  ],\n",
       "       [0.588117  , 0.5374546 , 0.6476319 , 0.59946835],\n",
       "       [0.5958082 , 0.597879  , 0.5787285 , 0.58003324],\n",
       "       [0.6053374 , 0.5934818 , 0.6162661 , 0.5386595 ],\n",
       "       [0.5522847 , 0.5891118 , 0.5886695 , 0.57521176],\n",
       "       [0.63978374, 0.5982208 , 0.55435365, 0.5823599 ],\n",
       "       [0.55425   , 0.58499396, 0.5994906 , 0.62034017],\n",
       "       [0.5995822 , 0.618214  , 0.6087585 , 0.5596142 ],\n",
       "       [0.5667329 , 0.5400737 , 0.5634217 , 0.55614567],\n",
       "       [0.6490746 , 0.6174215 , 0.6011948 , 0.6548847 ],\n",
       "       [0.62814146, 0.58637244, 0.5778547 , 0.58999944],\n",
       "       [0.65666175, 0.6479462 , 0.64621615, 0.5978675 ],\n",
       "       [0.59631264, 0.6123166 , 0.6057697 , 0.56206256],\n",
       "       [0.5778732 , 0.5766382 , 0.5918161 , 0.5578051 ],\n",
       "       [0.5653378 , 0.6030316 , 0.5891715 , 0.5777609 ],\n",
       "       [0.5429275 , 0.538459  , 0.5604057 , 0.5039919 ],\n",
       "       [0.58365715, 0.5999558 , 0.5715686 , 0.60384774],\n",
       "       [0.5812704 , 0.61779416, 0.63811463, 0.61998713],\n",
       "       [0.5530192 , 0.5667889 , 0.5659307 , 0.54667103],\n",
       "       [0.6132647 , 0.5405333 , 0.58697355, 0.6026698 ],\n",
       "       [0.63668233, 0.598518  , 0.61508304, 0.63639665],\n",
       "       [0.62414306, 0.5716831 , 0.5923639 , 0.55287534],\n",
       "       [0.63290083, 0.6175739 , 0.59282374, 0.6262429 ],\n",
       "       [0.59986514, 0.57386684, 0.5917016 , 0.5801983 ],\n",
       "       [0.59940064, 0.61340827, 0.60679823, 0.6249971 ],\n",
       "       [0.6217196 , 0.60099435, 0.62172085, 0.60827017],\n",
       "       [0.6210571 , 0.53047436, 0.59742886, 0.6054876 ],\n",
       "       [0.5910074 , 0.5697614 , 0.5757863 , 0.60521907],\n",
       "       [0.569664  , 0.5994058 , 0.5734807 , 0.60595983],\n",
       "       [0.59639066, 0.6199142 , 0.61116797, 0.46774796],\n",
       "       [0.5000435 , 0.50007486, 0.5000073 , 0.50005364],\n",
       "       [0.66155106, 0.575757  , 0.63884974, 0.61825293],\n",
       "       [0.5516555 , 0.58730567, 0.57297176, 0.5615079 ],\n",
       "       [0.6172224 , 0.56705713, 0.5464045 , 0.58533406],\n",
       "       [0.63249654, 0.63227916, 0.6219109 , 0.65581423],\n",
       "       [0.5566217 , 0.5957661 , 0.5580964 , 0.56481516],\n",
       "       [0.5634329 , 0.5803096 , 0.5687242 , 0.5867657 ],\n",
       "       [0.6163805 , 0.5934534 , 0.6021992 , 0.6246474 ],\n",
       "       [0.5730971 , 0.57933193, 0.5924005 , 0.5934914 ],\n",
       "       [0.6033412 , 0.5946232 , 0.5941006 , 0.5731772 ],\n",
       "       [0.5994697 , 0.5796056 , 0.5973249 , 0.59386855],\n",
       "       [0.61421555, 0.5646461 , 0.5839568 , 0.5336537 ],\n",
       "       [0.6168603 , 0.62473994, 0.6014554 , 0.6183652 ],\n",
       "       [0.6076193 , 0.59162045, 0.6305976 , 0.6293455 ],\n",
       "       [0.617796  , 0.60127103, 0.6247703 , 0.5427642 ],\n",
       "       [0.6035395 , 0.5648916 , 0.59479594, 0.5701723 ],\n",
       "       [0.5966064 , 0.5709777 , 0.5397453 , 0.57873297],\n",
       "       [0.64445204, 0.6700233 , 0.62259156, 0.5983471 ],\n",
       "       [0.60576385, 0.5430415 , 0.60327893, 0.6224411 ],\n",
       "       [0.56585336, 0.56269324, 0.6035557 , 0.59905726],\n",
       "       [0.5000435 , 0.50007486, 0.5000073 , 0.50005364],\n",
       "       [0.599932  , 0.5529731 , 0.62035555, 0.5575109 ],\n",
       "       [0.5813095 , 0.59767103, 0.5842524 , 0.5888492 ],\n",
       "       [0.5714519 , 0.54154694, 0.58743876, 0.5446698 ],\n",
       "       [0.58770645, 0.5535546 , 0.64638054, 0.5811412 ],\n",
       "       [0.5703651 , 0.55345714, 0.5994752 , 0.5481836 ],\n",
       "       [0.5837685 , 0.58401364, 0.56599253, 0.6061365 ],\n",
       "       [0.6452091 , 0.598699  , 0.6206718 , 0.6133528 ],\n",
       "       [0.5983888 , 0.59081876, 0.5682942 , 0.5823187 ],\n",
       "       [0.63264614, 0.64584637, 0.6323577 , 0.627649  ],\n",
       "       [0.6292578 , 0.6236738 , 0.60611564, 0.6321625 ],\n",
       "       [0.6625401 , 0.61767995, 0.5810222 , 0.62272316],\n",
       "       [0.62318605, 0.6027374 , 0.6216375 , 0.61517024],\n",
       "       [0.63130736, 0.610897  , 0.61610395, 0.606777  ],\n",
       "       [0.59695697, 0.5852979 , 0.61854756, 0.5519374 ],\n",
       "       [0.6116091 , 0.6208422 , 0.65736836, 0.56741947],\n",
       "       [0.6370915 , 0.5957669 , 0.62391996, 0.62130153],\n",
       "       [0.6582592 , 0.625898  , 0.64348817, 0.7022472 ],\n",
       "       [0.623349  , 0.66344637, 0.65025294, 0.6212703 ],\n",
       "       [0.5630238 , 0.5434611 , 0.55729824, 0.5458562 ],\n",
       "       [0.63299024, 0.6080229 , 0.6057928 , 0.6215767 ],\n",
       "       [0.55427486, 0.58770806, 0.5384044 , 0.6039795 ],\n",
       "       [0.6434657 , 0.6352491 , 0.5873556 , 0.60456556],\n",
       "       [0.61610633, 0.57721055, 0.5922775 , 0.5779052 ],\n",
       "       [0.6616063 , 0.5857258 , 0.6125188 , 0.584986  ],\n",
       "       [0.55054766, 0.59438485, 0.5959943 , 0.6068459 ],\n",
       "       [0.5959571 , 0.55943644, 0.5735049 , 0.59602845],\n",
       "       [0.6356587 , 0.5883952 , 0.5965222 , 0.50834924],\n",
       "       [0.59069747, 0.5690999 , 0.5486014 , 0.5850811 ],\n",
       "       [0.561763  , 0.58559775, 0.60140187, 0.60827863],\n",
       "       [0.56019455, 0.5831685 , 0.58926445, 0.56526405],\n",
       "       [0.6474548 , 0.6386407 , 0.6400564 , 0.62794685],\n",
       "       [0.5909931 , 0.57738733, 0.5731642 , 0.5734853 ],\n",
       "       [0.5000435 , 0.50007486, 0.5000073 , 0.50005364],\n",
       "       [0.6240233 , 0.60854375, 0.60827744, 0.593068  ],\n",
       "       [0.5716113 , 0.61582875, 0.55990267, 0.5649459 ],\n",
       "       [0.5945139 , 0.56957257, 0.5381881 , 0.60571957],\n",
       "       [0.6107164 , 0.5585821 , 0.59446174, 0.61965156],\n",
       "       [0.6499971 , 0.5678805 , 0.61624926, 0.62637526],\n",
       "       [0.5925053 , 0.5968546 , 0.54676384, 0.60157865],\n",
       "       [0.6620147 , 0.5616364 , 0.5745386 , 0.6610233 ],\n",
       "       [0.5372271 , 0.58764875, 0.5774731 , 0.5310843 ],\n",
       "       [0.6090589 , 0.57957983, 0.5660562 , 0.52903825]], dtype=float32)"
      ]
     },
     "execution_count": 16,
     "metadata": {},
     "output_type": "execute_result"
    }
   ],
   "source": [
    "clf.predict(X[:100])"
   ]
  },
  {
   "cell_type": "code",
   "execution_count": 25,
   "metadata": {},
   "outputs": [],
   "source": [
    "# from sklearn.pipeline import make_pipeline\n",
    "\n",
    "# clf = make_pipeline(\n",
    "#     KerasClassifier(buildClassifier(dim=100, hidden_nodes=100), epochs=2, batch_size=20)\n",
    "# )"
   ]
  },
  {
   "cell_type": "code",
   "execution_count": 26,
   "metadata": {},
   "outputs": [],
   "source": [
    "# clf.fit(X, y)"
   ]
  },
  {
   "cell_type": "code",
   "execution_count": 27,
   "metadata": {},
   "outputs": [],
   "source": [
    "# from sklearn.model_selection import KFold\n",
    "# from sklearn.metrics import accuracy_score\n",
    "\n",
    "# kf = KFold(n_splits=4)\n",
    "\n",
    "# scores = []\n",
    "# for train_index, test_index in kf.split(X):\n",
    "#     X_train, X_test = X[train_index], X[test_index]\n",
    "#     y_train, y_test = y[train_index], y[test_index]\n",
    "    \n",
    "#     scores.append(\n",
    "#         accuracy_score(clf.fit(X_train, y_train).predict(X_test), y_test)\n",
    "#     )\n",
    "    \n",
    "# np.mean(scores)"
   ]
  }
 ],
 "metadata": {
  "kernelspec": {
   "display_name": "Python 3",
   "language": "python",
   "name": "python3"
  },
  "language_info": {
   "codemirror_mode": {
    "name": "ipython",
    "version": 3
   },
   "file_extension": ".py",
   "mimetype": "text/x-python",
   "name": "python",
   "nbconvert_exporter": "python",
   "pygments_lexer": "ipython3",
   "version": "3.6.6"
  }
 },
 "nbformat": 4,
 "nbformat_minor": 2
}
