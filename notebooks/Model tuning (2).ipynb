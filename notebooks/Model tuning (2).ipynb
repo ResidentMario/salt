{
 "cells": [
  {
   "cell_type": "code",
   "execution_count": 16,
   "metadata": {},
   "outputs": [],
   "source": [
    "import numpy as np\n",
    "from matplotlib.image import imread\n",
    "\n",
    "\n",
    "class ImageDatasetBuilder:\n",
    "    \"\"\"\n",
    "    Given a DataFrame whose index is a set of image IDs (as with {train, test}.csv), returns featurized images.\n",
    "    \"\"\"\n",
    "    def __init__(self, x_dim=100, y_dim=100, source='../data/train/images/', mask=False):\n",
    "        \"\"\"\n",
    "        Builds the featurized image transform.\n",
    "        \n",
    "        x_dim: int\n",
    "            The X dimension to crop the images to.\n",
    "        y_dim: int\n",
    "            The Y dimension to crop the images to.\n",
    "        source: str\n",
    "            Path to the folder containing the image files.\n",
    "        mask: booleon\n",
    "            If true, the underlying data is a mask. If false, the underlying data is RGB. If the data is RGB,\n",
    "            we take just the R component and skip the GB, because the images are grayscale anyway.\n",
    "        \"\"\"\n",
    "        self.x_dim = x_dim\n",
    "        self.y_dim = y_dim\n",
    "        self.source = source\n",
    "        self.mask = mask\n",
    "        \n",
    "    def fit(self, X, y):\n",
    "        return self\n",
    "    \n",
    "    def transform(self, X):\n",
    "        r = np.asarray(\n",
    "            list(\n",
    "                map(lambda img_id: np.ravel(\n",
    "                    imread(f'{self.source}/{img_id}.png')[:self.x_dim,:self.y_dim]\n",
    "                ), X.index.values)\n",
    "            )\n",
    "        )\n",
    "        return r if self.mask else r[:,::3]\n",
    "    \n",
    "    \n",
    "from keras.models import Sequential\n",
    "from keras.layers import Dense\n",
    "from keras.optimizers import SGD\n",
    "from keras.wrappers.scikit_learn import KerasClassifier\n",
    "\n",
    "\n",
    "def buildClassifier(dim=50, hidden_nodes=100):\n",
    "    \"\"\"Returns the Keras model.\"\"\"\n",
    "    def ret():\n",
    "        clf = Sequential()\n",
    "        clf.add(Dense(hidden_nodes, activation='relu', input_dim=dim**2))\n",
    "        clf.add(Dense(dim**2, activation='sigmoid'))\n",
    "        clf.compile(loss='categorical_crossentropy', optimizer=SGD(lr=0.1), metrics=['accuracy'])\n",
    "        return clf\n",
    "    return ret"
   ]
  },
  {
   "cell_type": "markdown",
   "metadata": {},
   "source": [
    "TODO: outputting to hugely-dimensioned output target."
   ]
  },
  {
   "cell_type": "code",
   "execution_count": 24,
   "metadata": {},
   "outputs": [],
   "source": [
    "# import pandas as pd\n",
    "# train = pd.read_csv(\"../data/train.csv\", index_col=\"id\", usecols=[0])\n",
    "# _depths = pd.read_csv(\"../data/depths.csv\", index_col=\"id\")\n",
    "# train = train.join(_depths)\n",
    "# test = _depths[~_depths.index.isin(train.index)]\n",
    "# del _depths\n",
    "\n",
    "# X = ImageDatasetBuilder(source='../data/train/images/').transform(train)\n",
    "# y = ImageDatasetBuilder(source='../data/train/masks/', mask=True).transform(train)"
   ]
  },
  {
   "cell_type": "code",
   "execution_count": 25,
   "metadata": {},
   "outputs": [],
   "source": [
    "# from sklearn.pipeline import make_pipeline\n",
    "\n",
    "# clf = make_pipeline(\n",
    "#     KerasClassifier(buildClassifier(dim=100, hidden_nodes=100), epochs=2, batch_size=20)\n",
    "# )"
   ]
  },
  {
   "cell_type": "code",
   "execution_count": 26,
   "metadata": {},
   "outputs": [],
   "source": [
    "# clf.fit(X, y)"
   ]
  },
  {
   "cell_type": "code",
   "execution_count": 27,
   "metadata": {},
   "outputs": [],
   "source": [
    "# from sklearn.model_selection import KFold\n",
    "# from sklearn.metrics import accuracy_score\n",
    "\n",
    "# kf = KFold(n_splits=4)\n",
    "\n",
    "# scores = []\n",
    "# for train_index, test_index in kf.split(X):\n",
    "#     X_train, X_test = X[train_index], X[test_index]\n",
    "#     y_train, y_test = y[train_index], y[test_index]\n",
    "    \n",
    "#     scores.append(\n",
    "#         accuracy_score(clf.fit(X_train, y_train).predict(X_test), y_test)\n",
    "#     )\n",
    "    \n",
    "# np.mean(scores)"
   ]
  }
 ],
 "metadata": {
  "kernelspec": {
   "display_name": "Python 3",
   "language": "python",
   "name": "python3"
  },
  "language_info": {
   "codemirror_mode": {
    "name": "ipython",
    "version": 3
   },
   "file_extension": ".py",
   "mimetype": "text/x-python",
   "name": "python",
   "nbconvert_exporter": "python",
   "pygments_lexer": "ipython3",
   "version": "3.6.6"
  }
 },
 "nbformat": 4,
 "nbformat_minor": 2
}
