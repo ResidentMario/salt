{
 "cells": [
  {
   "cell_type": "code",
   "execution_count": 11,
   "metadata": {},
   "outputs": [],
   "source": [
    "import numpy as np\n",
    "from matplotlib.image import imread\n",
    "\n",
    "\n",
    "class ImageDatasetBuilder:\n",
    "    \"\"\"\n",
    "    Given a DataFrame whose index is a set of image IDs (as with {train, test}.csv), returns featurized images.\n",
    "    \"\"\"\n",
    "    def __init__(self, x_dim=100, y_dim=100, source='../data/train/images/', mask=False):\n",
    "        \"\"\"\n",
    "        Builds the featurized image transform.\n",
    "        \n",
    "        x_dim: int\n",
    "            The X dimension to crop the images to.\n",
    "        y_dim: int\n",
    "            The Y dimension to crop the images to.\n",
    "        source: str\n",
    "            Path to the folder containing the image files.\n",
    "        mask: booleon\n",
    "            If true, the underlying data is a mask. If false, the underlying data is RGB. If the data is RGB,\n",
    "            we take just the R component and skip the GB, because the images are grayscale anyway.\n",
    "        \"\"\"\n",
    "        self.x_dim = x_dim\n",
    "        self.y_dim = y_dim\n",
    "        self.source = source\n",
    "        self.mask = mask\n",
    "        \n",
    "    def fit(self, X, y):\n",
    "        return self\n",
    "    \n",
    "    def transform(self, X):\n",
    "        r = np.asarray(\n",
    "            list(\n",
    "                map(lambda img_id: np.ravel(\n",
    "                    imread(f'{self.source}/{img_id}.png')[:self.x_dim,:self.y_dim]\n",
    "                ), X.index.values)\n",
    "            )\n",
    "        )\n",
    "        return r if self.mask else r[:,::3]\n",
    "\n",
    "\n",
    "from keras.models import Sequential\n",
    "from keras.layers import Dense\n",
    "from keras.optimizers import SGD\n",
    "from keras.wrappers.scikit_learn import KerasClassifier\n",
    "\n",
    "\n",
    "def buildClassifier(dim=50, hidden_nodes=100):\n",
    "    \"\"\"Returns the Keras model.\"\"\"\n",
    "    def ret():\n",
    "        clf = Sequential()\n",
    "        clf.add(Dense(hidden_nodes, activation='relu', input_dim=dim**2))\n",
    "        clf.add(Dense(dim**2, activation='softmax'))\n",
    "        clf.compile(loss='categorical_crossentropy', optimizer=SGD(lr=0.1))\n",
    "        return clf\n",
    "    return ret"
   ]
  },
  {
   "cell_type": "code",
   "execution_count": 5,
   "metadata": {},
   "outputs": [],
   "source": [
    "import pandas as pd\n",
    "train = pd.read_csv(\"../data/train.csv\", index_col=\"id\", usecols=[0])\n",
    "_depths = pd.read_csv(\"../data/depths.csv\", index_col=\"id\")\n",
    "train = train.join(_depths)\n",
    "test = _depths[~_depths.index.isin(train.index)]\n",
    "del _depths\n",
    "\n",
    "X = ImageDatasetBuilder(source='../data/train/images/').transform(train)\n",
    "y = ImageDatasetBuilder(source='../data/train/masks/', mask=True).transform(train)"
   ]
  },
  {
   "cell_type": "code",
   "execution_count": 14,
   "metadata": {},
   "outputs": [],
   "source": [
    "from sklearn.pipeline import make_pipeline\n",
    "from sklearn.linear_model import LinearRegression\n",
    "\n",
    "clf = make_pipeline(\n",
    "    KerasClassifier(buildClassifier(dim=100, hidden_nodes=100), epochs=10, batch_size=20)\n",
    ")"
   ]
  },
  {
   "cell_type": "code",
   "execution_count": 15,
   "metadata": {},
   "outputs": [
    {
     "name": "stdout",
     "output_type": "stream",
     "text": [
      "Epoch 1/10\n",
      "4000/4000 [==============================] - 4s 929us/step - loss: 22818.8196\n",
      "Epoch 2/10\n",
      "4000/4000 [==============================] - 4s 913us/step - loss: 22811.3052\n",
      "Epoch 3/10\n",
      "4000/4000 [==============================] - 4s 900us/step - loss: 22811.6345\n",
      "Epoch 4/10\n",
      "4000/4000 [==============================] - 4s 908us/step - loss: 22811.8441\n",
      "Epoch 5/10\n",
      "4000/4000 [==============================] - 4s 920us/step - loss: 22811.6053\n",
      "Epoch 6/10\n",
      "4000/4000 [==============================] - 4s 907us/step - loss: 22811.5232\n",
      "Epoch 7/10\n",
      "4000/4000 [==============================] - 4s 906us/step - loss: 22811.6785\n",
      "Epoch 8/10\n",
      "4000/4000 [==============================] - 4s 917us/step - loss: 22810.8789\n",
      "Epoch 9/10\n",
      "4000/4000 [==============================] - 4s 908us/step - loss: 22811.6908\n",
      "Epoch 10/10\n",
      "4000/4000 [==============================] - 4s 926us/step - loss: 22811.4751\n"
     ]
    },
    {
     "data": {
      "text/plain": [
       "Pipeline(memory=None,\n",
       "     steps=[('kerasclassifier', <keras.wrappers.scikit_learn.KerasClassifier object at 0x7feab2ccca90>)])"
      ]
     },
     "execution_count": 15,
     "metadata": {},
     "output_type": "execute_result"
    }
   ],
   "source": [
    "clf.fit(X, y)"
   ]
  }
 ],
 "metadata": {
  "kernelspec": {
   "display_name": "Python 3",
   "language": "python",
   "name": "python3"
  },
  "language_info": {
   "codemirror_mode": {
    "name": "ipython",
    "version": 3
   },
   "file_extension": ".py",
   "mimetype": "text/x-python",
   "name": "python",
   "nbconvert_exporter": "python",
   "pygments_lexer": "ipython3",
   "version": "3.6.6"
  }
 },
 "nbformat": 4,
 "nbformat_minor": 2
}
